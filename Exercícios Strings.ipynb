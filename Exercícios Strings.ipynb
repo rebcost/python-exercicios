{
 "cells": [
  {
   "cell_type": "markdown",
   "id": "df5a6a32",
   "metadata": {},
   "source": [
    "Escreva um programa Python para calcular o comprimento de uma string."
   ]
  },
  {
   "cell_type": "code",
   "execution_count": 2,
   "id": "5a9301ae",
   "metadata": {},
   "outputs": [
    {
     "name": "stdout",
     "output_type": "stream",
     "text": [
      "14\n"
     ]
    }
   ],
   "source": [
    "def tam_string(strings):\n",
    "    cont = 0\n",
    "    for string in strings:\n",
    "        cont += 1\n",
    "    return cont\n",
    "print(tam_string(\"www.google.com\"))"
   ]
  },
  {
   "cell_type": "code",
   "execution_count": 1,
   "id": "e8999a6e",
   "metadata": {},
   "outputs": [
    {
     "name": "stdout",
     "output_type": "stream",
     "text": [
      "Escreva sua frase para saber o tamanho: Liquid\n",
      "Tamanho da String: 6\n"
     ]
    }
   ],
   "source": [
    "compr = input(\"Escreva sua frase para saber o tamanho: \")\n",
    "print(f\"Tamanho da String: {len(compr)}\")"
   ]
  },
  {
   "cell_type": "markdown",
   "id": "ac9c5c81",
   "metadata": {},
   "source": [
    "Escreva um programa Python para contar o número de caracteres (frequência de caracteres) em uma string\n",
    "Amostra de string: google.com '\n",
    "Resultado esperado: {' g ': 2,' o ': 3,' l ': 1,' e ': 1,'. ': 1,' c ': 1 , 'm': 1}"
   ]
  },
  {
   "cell_type": "code",
   "execution_count": 27,
   "id": "b01deb6b",
   "metadata": {},
   "outputs": [
    {
     "name": "stdout",
     "output_type": "stream",
     "text": [
      "{'h': 4, 't': 10, 'p': 3, ':': 2, '/': 6, 'l': 4, 'o': 9, 'c': 3, 'a': 2, 's': 4, '8': 4, 'n': 8, 'e': 7, 'b': 2, 'k': 2, 'D': 1, 'u': 1, 'm': 2, 'P': 2, 'y': 3, '%': 1, '2': 1, '0': 1, 'r': 2, 'j': 1, 'U': 1, 'i': 2, 'd': 1, '.': 1, '?': 1, '_': 1, '=': 1, '3': 1}\n"
     ]
    }
   ],
   "source": [
    "# Forma 1\n",
    "def conta_caracter(strings):\n",
    "    # criar um dicionário vazio\n",
    "    dict_caractere = {}\n",
    "    # laço para percorrer a string\n",
    "    for char in strings:\n",
    "        # os caracteres serão a chave do dicionario\n",
    "        key = dict_caractere.keys()\n",
    "        if char in key:\n",
    "            dict_caractere[char] +=1\n",
    "        else:\n",
    "            dict_caractere[char] = 1\n",
    "    return dict_caractere\n",
    "        \n",
    "\n",
    "print(conta_caracter(\"http://localhost:8888/notebooks/Documents/Python%20Projects/Untitled.ipynb?kernel_name=python3\"))"
   ]
  },
  {
   "cell_type": "markdown",
   "id": "d458cb24",
   "metadata": {},
   "source": [
    "Escreva um programa Python para obter uma string composta dos 2 primeiros e dos 2 últimos caracteres de uma determinada string. Se o comprimento da string for menor que 2, retorne em vez da string vazia\n",
    " \n",
    "String de Amostra: 'w3resource'\n",
    "Resultado Esperado: 'w3ce'\n",
    "String de Amostra: 'w3'\n",
    "Resultado Esperado: 'w3w3'\n",
    "String de Amostra: 'w'\n",
    "Resultado Esperado: String Vazia"
   ]
  },
  {
   "cell_type": "code",
   "execution_count": 32,
   "id": "65b534ba",
   "metadata": {},
   "outputs": [
    {
     "name": "stdout",
     "output_type": "stream",
     "text": [
      "w3ce\n",
      "w3w3\n",
      "String Vazia\n"
     ]
    }
   ],
   "source": [
    "def string_composta(txt):\n",
    "    string = \"\"\n",
    "    if len(txt) < 2:\n",
    "        return \"String Vazia\"\n",
    "    string = txt[:2] + txt[-2:]\n",
    "    return string\n",
    "    \n",
    "print(string_composta(\"w3resource\"))\n",
    "print(string_composta(\"w3\"))\n",
    "print(string_composta(\"w\"))"
   ]
  },
  {
   "cell_type": "markdown",
   "id": "a18a78e6",
   "metadata": {},
   "source": [
    "Escreva um programa Python para obter uma string de uma determinada string onde todas as ocorrências de seu primeiro caractere foram alteradas para '$', exceto o próprio primeiro caractere\n",
    "Sample String: 'restart'\n",
    "Resultado Esperado: 'resta $ t'"
   ]
  },
  {
   "cell_type": "code",
   "execution_count": 48,
   "id": "98edb557",
   "metadata": {
    "scrolled": true
   },
   "outputs": [
    {
     "name": "stdout",
     "output_type": "stream",
     "text": [
      "escr$va\n",
      "cara$tere\n",
      "an$n$\n"
     ]
    }
   ],
   "source": [
    "def mudar_caracter(txt):\n",
    "    # Ver qual é o primeiro caracter -> primeiro = caracter[0]\n",
    "    primeiro_char = txt[0]\n",
    "    string = \"\"\n",
    "    # Verificar no resto da string a ocorrência desse caracter\n",
    "    for char in txt:\n",
    "    # Trocar esse caracter por $ (obs: o primeiro caracter não troca)       \n",
    "        if char == primeiro_char:\n",
    "            string += \"$\"\n",
    "        else:\n",
    "            string += char\n",
    "    return primeiro_char+string[1:]\n",
    "\n",
    "print(mudar_caracter(\"escreva\"))\n",
    "print(mudar_caracter(\"caractere\"))\n",
    "print(mudar_caracter(\"anana\"))\n",
    "\n",
    "\n",
    "       \n",
    "        \n",
    "    "
   ]
  },
  {
   "cell_type": "markdown",
   "id": "517ed455",
   "metadata": {},
   "source": [
    "Escreva um programa Python para obter uma única string de duas strings fornecidas, separadas por um espaço e trocar os primeiros dois caracteres de cada string.\n",
    "String de amostra: 'abc', 'xyz'\n",
    "Resultado esperado: 'xyc abz'"
   ]
  },
  {
   "cell_type": "code",
   "execution_count": 53,
   "id": "f473ae98",
   "metadata": {},
   "outputs": [
    {
     "name": "stdout",
     "output_type": "stream",
     "text": [
      "xyc abz\n"
     ]
    }
   ],
   "source": [
    "def separar_string(txt):\n",
    "# receber a string de amostra por meio de uma tupla\n",
    "    string = \"\"\n",
    "    str1, str2 = txt\n",
    "    # concatenar os dois primeiros caracteres da segunda string com o ultimo caractere da primeira string\n",
    "    string = f\"{str2[:len(str2)-1]+str1[-1]} {str1[:len(str1)-1]+str2[-1]}\"\n",
    "    return string \n",
    "\n",
    "print(separar_string(('abc', 'xyz')))\n"
   ]
  },
  {
   "cell_type": "markdown",
   "id": "4f585bd3",
   "metadata": {},
   "source": [
    "Escreva um programa Python para adicionar 'ing' no final de uma determinada string (o comprimento deve ser de pelo menos 3). Se a string fornecida já termina com 'ing', adicione 'ly' ao invés. Se o comprimento da string de uma determinada string for menor que 3, deixe-o inalterado.\n",
    "\n",
    "String de Amostra: 'abc'\n",
    "Resultado Esperado: 'abcing'\n",
    "String de Amostra: 'string'\n",
    "Resultado Esperado: 'stringly'"
   ]
  },
  {
   "cell_type": "code",
   "execution_count": 63,
   "id": "abeb161a",
   "metadata": {
    "scrolled": true
   },
   "outputs": [
    {
     "name": "stdout",
     "output_type": "stream",
     "text": [
      "abcing\n",
      "stringly\n",
      "aa\n"
     ]
    }
   ],
   "source": [
    "# verificar o final da string\n",
    "# se o comprimento da string for maior que 3 e não termina com ing -> add o ing ao final da string\n",
    "# se a string termina com ing -> add ly ao final da string\n",
    "# caso a string for menor que 3 -> não faz nada\n",
    "def add_ing(txt):\n",
    "    string = \"\"\n",
    "#     final_string = txt[-3:] == \"ing\"\n",
    "    \n",
    "    if len(txt) > 2 and not txt[-3:] == \"ing\":\n",
    "        string = txt+\"ing\"\n",
    "        return string\n",
    "    elif len(txt) > 2 and txt[-3:] == \"ing\":\n",
    "        string = txt+\"ly\"\n",
    "        return string\n",
    "    return txt\n",
    "\n",
    "print(add_ing(\"abc\"))\n",
    "print(add_ing(\"string\"))\n",
    "print(add_ing(\"aa\"))"
   ]
  },
  {
   "cell_type": "markdown",
   "id": "37a1f892",
   "metadata": {},
   "source": [
    "Write a Python program to find the first appearance of the substring 'not' and 'poor' from a given string, if 'not' follows the 'poor', replace the whole 'not'...'poor' substring with 'good'. Return the resulting string.\n",
    "\n",
    "Sample String : 'The lyrics is not that poor!'\n",
    "'The lyrics is poor!'\n",
    "Expected Result : 'The lyrics is good!'\n",
    "'The lyrics is poor!'"
   ]
  },
  {
   "cell_type": "code",
   "execution_count": 72,
   "id": "033e1461",
   "metadata": {},
   "outputs": [
    {
     "name": "stdout",
     "output_type": "stream",
     "text": [
      "The lyrics is good!\n",
      "The lyrics is poor\n"
     ]
    }
   ],
   "source": [
    "# pegar a frase \n",
    "# se tiver as palavras 'not' e 'poor' -> remover todas as frases após o not por good\n",
    "def analisar_frase(txt): \n",
    "    string_not = txt.find(\"not\") \n",
    "    string_poor = txt.find(\"poor\")\n",
    "    if string_poor > string_not and string_not > 0 and string_poor > 0:\n",
    "        txt = txt.replace(txt[string_not:(string_poor+4)],\"good\")\n",
    "        return txt\n",
    "    else: \n",
    "        return txt\n",
    "print(analisar_frase(\"The lyrics is not that poor!\"))\n",
    "print(analisar_frase(\"The lyrics is poor\"))"
   ]
  }
 ],
 "metadata": {
  "kernelspec": {
   "display_name": "Python 3",
   "language": "python",
   "name": "python3"
  },
  "language_info": {
   "codemirror_mode": {
    "name": "ipython",
    "version": 3
   },
   "file_extension": ".py",
   "mimetype": "text/x-python",
   "name": "python",
   "nbconvert_exporter": "python",
   "pygments_lexer": "ipython3",
   "version": "3.8.8"
  }
 },
 "nbformat": 4,
 "nbformat_minor": 5
}
