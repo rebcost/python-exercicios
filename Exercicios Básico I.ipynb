{
 "cells": [
  {
   "cell_type": "markdown",
   "id": "9f956a3f",
   "metadata": {},
   "source": [
    "# Python Exercícios - Básico I\n",
    "\n",
    "\n"
   ]
  },
  {
   "cell_type": "markdown",
   "id": "b28de230",
   "metadata": {},
   "source": [
    "Escreva um programa Python para exibir a data e a hora atuais\n",
    "\n",
    "https://www.w3schools.com/python/python_datetime.asp"
   ]
  },
  {
   "cell_type": "code",
   "execution_count": null,
   "id": "5a580951",
   "metadata": {},
   "outputs": [],
   "source": [
    "import datetime\n",
    "\n",
    "data = datetime.datetime.now()\n",
    "print(data.strftime(\"%x - %X\"))"
   ]
  },
  {
   "cell_type": "markdown",
   "id": "26a6ae91",
   "metadata": {},
   "source": [
    "Escreva um programa Python que aceite o nome e o sobrenome do usuário e os imprima na ordem reversa com um espaço entre eles.b"
   ]
  },
  {
   "cell_type": "code",
   "execution_count": 7,
   "id": "248bf902",
   "metadata": {
    "scrolled": true
   },
   "outputs": [
    {
     "name": "stdout",
     "output_type": "stream",
     "text": [
      "Nome: Filipe\n",
      "Sobrenome: Costa\n",
      "Costa Filipe\n"
     ]
    }
   ],
   "source": [
    "nome = input(\"Nome: \")\n",
    "sobrenome = input(\"Sobrenome: \")\n",
    "print(f\"{sobrenome} {nome}\")"
   ]
  },
  {
   "cell_type": "markdown",
   "id": "bc7e52c6",
   "metadata": {},
   "source": [
    "Escreva um programa Python que aceite uma sequência de números separados por vírgula do usuário e gere uma lista e uma tupla com esses números.\n",
    "\n",
    "Métodos de String em Python\n",
    "\n",
    "https://www.w3schools.com/python/python_ref_string.asp"
   ]
  },
  {
   "cell_type": "code",
   "execution_count": 12,
   "id": "8d6c707e",
   "metadata": {
    "scrolled": true
   },
   "outputs": [
    {
     "name": "stdout",
     "output_type": "stream",
     "text": [
      "Informe os números (separe por vígulas): 2,3,4,562,4\n",
      "('2', '3', '4', '562', '4')\n"
     ]
    }
   ],
   "source": [
    "num = input(\"Informe os números (separe por vígulas): \")\n",
    "num_separados = tuple(num.split(\",\")) \n",
    "print(num_separados)"
   ]
  },
  {
   "cell_type": "markdown",
   "id": "a45199a0",
   "metadata": {},
   "source": [
    "Escreva um programa Python para aceitar um nome de arquivo do usuário e imprimir sua extensão\n"
   ]
  },
  {
   "cell_type": "code",
   "execution_count": 1,
   "id": "85c944e5",
   "metadata": {
    "scrolled": true
   },
   "outputs": [
    {
     "name": "stdout",
     "output_type": "stream",
     "text": [
      "Informe o nome do arquivo e extensão: ahjkaf.d\n",
      "d\n"
     ]
    }
   ],
   "source": [
    "nome_arquivo = input(\"Informe o nome do arquivo e extensão: \")\n",
    "pos_extensao = nome_arquivo.find(\".\")\n",
    "print(nome_arquivo[pos_extensao + 1:])"
   ]
  },
  {
   "cell_type": "markdown",
   "id": "6fc7bf6a",
   "metadata": {},
   "source": [
    "Escreva um programa Python para exibir a primeira e a última cores da lista a seguir\n",
    "\n",
    "color_list = [\"Red\", \"Green\", \"White\", \"Black\"]"
   ]
  },
  {
   "cell_type": "code",
   "execution_count": 20,
   "id": "95137dee",
   "metadata": {
    "scrolled": true
   },
   "outputs": [
    {
     "name": "stdout",
     "output_type": "stream",
     "text": [
      "Primeira Cor: Red\n",
      "Última Cor: Black\n"
     ]
    }
   ],
   "source": [
    "color_list = [\"Red\", \"Green\", \"White\", \"Black\"]\n",
    "print(f\"Primeira Cor: {color_list[0]}\\nÚltima Cor: {color_list[-1]}\")"
   ]
  },
  {
   "cell_type": "markdown",
   "id": "f1bf3619",
   "metadata": {},
   "source": [
    "Escreva um programa Python para exibir a programação do exame. (extraia a data de exam_st_date)\n",
    "exam_st_date = (11, 12, 2014)\n",
    "Saída de amostra: O exame começará em: 12/11/2014"
   ]
  },
  {
   "cell_type": "code",
   "execution_count": 21,
   "id": "df3e3d69",
   "metadata": {
    "scrolled": true
   },
   "outputs": [
    {
     "name": "stdout",
     "output_type": "stream",
     "text": [
      "O exame começará em: 12/11/2014\n"
     ]
    }
   ],
   "source": [
    "exam_st_date = (11,12,2014)\n",
    "mes, dia, ano = exam_st_date\n",
    "print(f\"O exame começará em: {dia}/{mes}/{ano}\")"
   ]
  },
  {
   "cell_type": "markdown",
   "id": "b0593527",
   "metadata": {},
   "source": [
    "Escreva um programa Python para imprimir o calendário de um determinado mês e ano"
   ]
  },
  {
   "cell_type": "code",
   "execution_count": 24,
   "id": "62c00cfd",
   "metadata": {
    "scrolled": true
   },
   "outputs": [
    {
     "name": "stdout",
     "output_type": "stream",
     "text": [
      "Ano: 1997\n",
      "Mês: 10\n",
      "    October 1997\n",
      "Su Mo Tu We Th Fr Sa\n",
      "          1  2  3  4\n",
      " 5  6  7  8  9 10 11\n",
      "12 13 14 15 16 17 18\n",
      "19 20 21 22 23 24 25\n",
      "26 27 28 29 30 31\n"
     ]
    }
   ],
   "source": [
    "import calendar\n",
    "ano = int(input(\"Ano: \"))\n",
    "mes = int(input(\"Mês: \"))\n",
    "caledario = calendar.TextCalendar(calendar.SUNDAY)\n",
    "caledario.prmonth(ano, mes)"
   ]
  },
  {
   "cell_type": "markdown",
   "id": "607ce160",
   "metadata": {},
   "source": [
    "Escreva um programa Python para calcular o número de dias entre duas datas.\n",
    "Datas de amostra : (2014, 7, 2), (2014, 7, 11)\n",
    "Saída esperada : 9 dias"
   ]
  },
  {
   "cell_type": "code",
   "execution_count": 25,
   "id": "0ccfc329",
   "metadata": {},
   "outputs": [
    {
     "name": "stdout",
     "output_type": "stream",
     "text": [
      "Diferença entre dias: 9 dias\n"
     ]
    }
   ],
   "source": [
    "import datetime\n",
    "inicio = datetime.datetime(2014, 7, 2)\n",
    "fim = datetime.datetime(2014, 7, 11)\n",
    "delta = fim.day - inicio.day\n",
    "print(f\"Diferença entre dias: {delta} dias\")"
   ]
  },
  {
   "cell_type": "markdown",
   "id": "30a2ad5b",
   "metadata": {},
   "source": [
    "Escreva um programa Python para obter o volume de uma esfera com raio 6"
   ]
  },
  {
   "cell_type": "code",
   "execution_count": 29,
   "id": "a0f5349f",
   "metadata": {
    "scrolled": true
   },
   "outputs": [
    {
     "name": "stdout",
     "output_type": "stream",
     "text": [
      "Informe a medida do raio: 6\n",
      "Volume da esfera: 904.78 uv\n"
     ]
    }
   ],
   "source": [
    "import math\n",
    "pi = math.pi\n",
    "raio = float(input(\"Informe a medida do raio: \"))\n",
    "volume = (4/3)*pi*math.pow(raio,3)\n",
    "print(f\"Volume da esfera: {round(volume,2)} uv\")"
   ]
  },
  {
   "cell_type": "markdown",
   "id": "dd923572",
   "metadata": {},
   "source": [
    " Escreva um programa Python para testar se um número está dentro de 100 de 1000 ou 2000"
   ]
  },
  {
   "cell_type": "code",
   "execution_count": 35,
   "id": "97efc56d",
   "metadata": {
    "scrolled": true
   },
   "outputs": [
    {
     "name": "stdout",
     "output_type": "stream",
     "text": [
      "Informe o número: 1004\n",
      "Está fora\n"
     ]
    }
   ],
   "source": [
    "num = int(input(\"Informe o número: \"))\n",
    "\n",
    "if 100 <= num <= 1000 or num>= 2000:\n",
    "    print(\"Está dentro\")\n",
    "else:\n",
    "    print(\"Está fora\")"
   ]
  },
  {
   "cell_type": "markdown",
   "id": "6bf9136f",
   "metadata": {},
   "source": [
    "Escreva um programa Python para testar se uma letra aprovada é uma vogal ou não."
   ]
  },
  {
   "cell_type": "code",
   "execution_count": 39,
   "id": "6125ff9e",
   "metadata": {
    "scrolled": true
   },
   "outputs": [
    {
     "name": "stdout",
     "output_type": "stream",
     "text": [
      "Informe uma letra: j\n",
      "j não é uma vogal\n"
     ]
    }
   ],
   "source": [
    "letra = input(\"Informe uma letra: \")\n",
    "vogais = ['a','e','i','o','u']\n",
    "\n",
    "if letra in vogais:\n",
    "    print(f\"{letra} é uma vogal\")\n",
    "else:\n",
    "    print(f\"{letra} não é uma vogal\")"
   ]
  },
  {
   "cell_type": "markdown",
   "id": "360dada2",
   "metadata": {},
   "source": [
    "Escreva um programa Python para criar um histograma a partir de uma determinada lista de inteiros"
   ]
  },
  {
   "cell_type": "code",
   "execution_count": 43,
   "id": "0f297fda",
   "metadata": {},
   "outputs": [
    {
     "name": "stdout",
     "output_type": "stream",
     "text": [
      "Informe um caracter: *\n",
      "**\n",
      "***\n",
      "*****\n",
      "****\n"
     ]
    }
   ],
   "source": [
    "caracter = input(\"Informe um caracter: \")\n",
    "lista = [2,3,5,4]\n",
    "for i in lista:\n",
    "    print(i*caracter)"
   ]
  },
  {
   "cell_type": "markdown",
   "id": "afd613e1",
   "metadata": {},
   "source": [
    "Escreva um programa Python para imprimir todos os números pares de uma determinada lista de números na mesma ordem e interromper a impressão se houver números posteriores a 237 na sequência"
   ]
  },
  {
   "cell_type": "code",
   "execution_count": 46,
   "id": "8c5bb776",
   "metadata": {},
   "outputs": [
    {
     "name": "stdout",
     "output_type": "stream",
     "text": [
      "[386, 462, 418, 344, 236, 566, 978, 328, 162, 758, 918]\n"
     ]
    }
   ],
   "source": [
    "numeros = [     \n",
    "    386, 462, 47, 418, 907, 344, 236, 375, 823, 566, 597, 978, 328, 615, 953, 345, \n",
    "    399, 162, 758, 219, 918, 237, 412, 566 , 826, 248, 866, 950, 626, 949, 687, 217, \n",
    "    815, 67, 104, 58, 512, 24, 892, 894, 767, 553, 81, 379, 843, 831, 445, 742, 717 , \n",
    "    958.743, 527 \n",
    "    ]\n",
    "\n",
    "num_pares = []\n",
    "for numero in numeros:\n",
    "    if numero == 237:\n",
    "        break\n",
    "    elif numero % 2 == 0:\n",
    "        num_pares.append(numero)\n",
    "print(num_pares)"
   ]
  },
  {
   "cell_type": "markdown",
   "id": "95d5f7da",
   "metadata": {},
   "source": [
    "Escreva um programa Python para imprimir um conjunto contendo todas as cores de color_list_1 que não estão presentes em color_list_2. \n",
    "Dados de teste :\n",
    "color_list_1 = set ([\"White\", \"Black\", \"Red\"])\n",
    "color_list_2 = set ([\"Red\", \"Green\"])\n",
    "Saída esperada :\n",
    "{'Black', 'White' }\n",
    "\n",
    "https://www.w3schools.com/python/ref_set_difference.asp"
   ]
  },
  {
   "cell_type": "code",
   "execution_count": 48,
   "id": "5a91e3b6",
   "metadata": {},
   "outputs": [
    {
     "name": "stdout",
     "output_type": "stream",
     "text": [
      "{'White', 'Black'}\n"
     ]
    }
   ],
   "source": [
    "color_list_1 = set ([\"White\", \"Black\", \"Red\"])\n",
    "color_list_2 = set ([\"Red\", \"Green\"])\n",
    "color_diferenca = color_list_1.difference(color_list_2)\n",
    "print(color_diferenca)"
   ]
  },
  {
   "cell_type": "markdown",
   "id": "c1d2d260",
   "metadata": {},
   "source": [
    "Escreva um programa Python com a soma de três números inteiros fornecidos. No entanto, se dois valores forem iguais, a soma será zero"
   ]
  },
  {
   "cell_type": "code",
   "execution_count": 50,
   "id": "379a4c5b",
   "metadata": {},
   "outputs": [
    {
     "name": "stdout",
     "output_type": "stream",
     "text": [
      "0\n",
      "0\n",
      "0\n",
      "6\n"
     ]
    }
   ],
   "source": [
    "def somar(a,b,c):\n",
    "    if a == b or a == c or b == c:\n",
    "        return 0\n",
    "    else:\n",
    "        return a+b+c\n",
    "    \n",
    "print(somar(2, 1, 2))\n",
    "print(somar(3, 2, 2))\n",
    "print(somar(2, 2, 2))\n",
    "print(somar(1, 2, 3))"
   ]
  },
  {
   "cell_type": "markdown",
   "id": "4f6018df",
   "metadata": {},
   "source": [
    "Escreva um programa Python para calcular a distância entre os pontos (x1, y1) e (x2, y2)\n",
    "d = raizq(x2-x1)^2+(y2-y1)^2"
   ]
  },
  {
   "cell_type": "code",
   "execution_count": 58,
   "id": "b8811884",
   "metadata": {},
   "outputs": [
    {
     "name": "stdout",
     "output_type": "stream",
     "text": [
      "6.324555320336759\n"
     ]
    }
   ],
   "source": [
    "import math\n",
    "def distancia_pontos(x1, y1, x2, y2):\n",
    "    return math.sqrt(math.pow(x2-x1,2)+math.pow(y2-y1,2))\n",
    "\n",
    "p1 = [4,0]\n",
    "p2 = [6,6]\n",
    "\n",
    "dis = distancia_pontos(p1[0],p1[1],p2[0],p2[1])\n",
    "\n",
    "print(dis)"
   ]
  },
  {
   "cell_type": "markdown",
   "id": "7d402932",
   "metadata": {},
   "source": [
    "Escreva um programa Python para determinar se um shell Python está sendo executado no modo de 32 bits ou 64 bits no sistema operacional. \n",
    "\n",
    "https://docs.python.org/3/library/platform.html"
   ]
  },
  {
   "cell_type": "code",
   "execution_count": 76,
   "id": "7a3afd02",
   "metadata": {},
   "outputs": [
    {
     "name": "stdout",
     "output_type": "stream",
     "text": [
      "64bit\n"
     ]
    }
   ],
   "source": [
    "import platform\n",
    "modo = platform.architecture()\n",
    "# platform.machine()\n",
    "# platform.node()\n",
    "# platform.platform()\n",
    "# platform.processor()\n",
    "# platform.python_compiler()\n",
    "print(modo[0])"
   ]
  },
  {
   "cell_type": "markdown",
   "id": "72abad87",
   "metadata": {},
   "source": [
    "Escreva um programa Python para verificar se existe um arquivo\n",
    "\n",
    "Documentação da biblioteca OS: https://docs.python.org/3/library/os.html"
   ]
  },
  {
   "cell_type": "code",
   "execution_count": 2,
   "id": "df4786cf",
   "metadata": {},
   "outputs": [
    {
     "name": "stdout",
     "output_type": "stream",
     "text": [
      "Informe o nome do arquivo: dados.py\n"
     ]
    },
    {
     "data": {
      "text/plain": [
       "False"
      ]
     },
     "execution_count": 2,
     "metadata": {},
     "output_type": "execute_result"
    }
   ],
   "source": [
    "# Forma 1b\n",
    "import os.path\n",
    "nome_arq = input(\"Informe o nome do arquivo: \")\n",
    "os.path.exists(nome_arq)"
   ]
  },
  {
   "cell_type": "code",
   "execution_count": 4,
   "id": "0cf09052",
   "metadata": {},
   "outputs": [
    {
     "name": "stdout",
     "output_type": "stream",
     "text": [
      "Informe o nome do arquivo: dados.py\n",
      "Arquivo não encontrado!\n"
     ]
    }
   ],
   "source": [
    "# Forma 2\n",
    "nome_arq = input(\"Informe o nome do arquivo: \")\n",
    "try:\n",
    "   with open(nome_arq, 'r') as file:\n",
    "       processar_arquivo(file)\n",
    "except IOError:\n",
    "    print ('Arquivo não encontrado!')"
   ]
  },
  {
   "cell_type": "markdown",
   "id": "2ffe2b46",
   "metadata": {},
   "source": [
    "Escreva um programa Python para localizar pacotes de sites Python"
   ]
  },
  {
   "cell_type": "code",
   "execution_count": 5,
   "id": "f3f8b19d",
   "metadata": {
    "scrolled": true
   },
   "outputs": [
    {
     "name": "stdout",
     "output_type": "stream",
     "text": [
      "['C:\\\\Users\\\\felipe\\\\anaconda3', 'C:\\\\Users\\\\felipe\\\\anaconda3\\\\lib\\\\site-packages']\n"
     ]
    }
   ],
   "source": [
    "import site\n",
    "print(site.getsitepackages())"
   ]
  },
  {
   "cell_type": "markdown",
   "id": "c9eda698",
   "metadata": {},
   "source": [
    " Escreva um programa python para obter o caminho e o nome do arquivo que está sendo executado no momento"
   ]
  },
  {
   "cell_type": "code",
   "execution_count": 10,
   "id": "95760d38",
   "metadata": {},
   "outputs": [
    {
     "name": "stdout",
     "output_type": "stream",
     "text": [
      "C:\\Users\\felipe\\Documents\\Python Projects\\__file__\n"
     ]
    }
   ],
   "source": [
    "import os\n",
    "diretorio = os.path.realpath(\"__file__\")\n",
    "print(diretorio)"
   ]
  },
  {
   "cell_type": "markdown",
   "id": "a7212bc2",
   "metadata": {},
   "source": [
    " Escreva um programa Python para analisar uma string em Float ou Integer."
   ]
  },
  {
   "cell_type": "code",
   "execution_count": 11,
   "id": "69302ed5",
   "metadata": {},
   "outputs": [
    {
     "name": "stdout",
     "output_type": "stream",
     "text": [
      "12\n",
      "233.12\n"
     ]
    }
   ],
   "source": [
    "def test(s):\n",
    "   try:\n",
    "       return int(s)\n",
    "   except ValueError:\n",
    "       return float(s)\n",
    "print(test('12'))\n",
    "print(test('233.12'))\n"
   ]
  },
  {
   "cell_type": "markdown",
   "id": "07bf31a5",
   "metadata": {},
   "source": [
    "Escreva um programa Python para listar todos os arquivos em um diretório em Python"
   ]
  },
  {
   "cell_type": "code",
   "execution_count": 28,
   "id": "fd97b45b",
   "metadata": {},
   "outputs": [
    {
     "name": "stdout",
     "output_type": "stream",
     "text": [
      "['Digital Innovation One', 'IFRS']\n",
      "[]\n"
     ]
    }
   ],
   "source": [
    "from os import listdir\n",
    "from os.path import isfile, join\n",
    "diret = r\"C:\\Users\\felipe\\Documents\\MEGA\\Cursos\"\n",
    "print(listdir(diret))\n",
    "files_list = [f for f in listdir(diret) if isfile(join(diret,f))]\n",
    "print(files_list)"
   ]
  },
  {
   "cell_type": "code",
   "execution_count": 30,
   "id": "6c75b113",
   "metadata": {},
   "outputs": [
    {
     "name": "stdout",
     "output_type": "stream",
     "text": [
      "Arquivo não encontrado\n"
     ]
    }
   ],
   "source": [
    "import os.path, time\n",
    "try: \n",
    "    print(\"Last modified: %s\" % time.ctime(os.path.getmtime(\"test.txt\")))\n",
    "    print(\"Created: %s\" % time.ctime(os.path.getctime(\"test.txt\")))\n",
    "except FileNotFoundError:\n",
    "    print(\"Arquivo não encontrado\")\n"
   ]
  }
 ],
 "metadata": {
  "kernelspec": {
   "display_name": "Python 3",
   "language": "python",
   "name": "python3"
  },
  "language_info": {
   "codemirror_mode": {
    "name": "ipython",
    "version": 3
   },
   "file_extension": ".py",
   "mimetype": "text/x-python",
   "name": "python",
   "nbconvert_exporter": "python",
   "pygments_lexer": "ipython3",
   "version": "3.8.8"
  }
 },
 "nbformat": 4,
 "nbformat_minor": 5
}
